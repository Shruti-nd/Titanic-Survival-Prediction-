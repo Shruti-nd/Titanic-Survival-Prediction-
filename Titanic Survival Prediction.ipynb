{
 "cells": [
  {
   "cell_type": "code",
   "execution_count": 80,
   "id": "434bad23-62ae-4bd0-99b7-8ef60932723b",
   "metadata": {},
   "outputs": [],
   "source": [
    "import numpy as np\n",
    "import pandas as pd\n",
    "import matplotlib.pyplot as plt\n",
    "import seaborn as sns\n",
    "from sklearn.model_selection import train_test_split\n",
    "from sklearn.preprocessing import LabelEncoder, StandardScaler\n",
    "from sklearn.impute import SimpleImputer\n",
    "from sklearn.linear_model import LogisticRegression\n",
    "from sklearn.metrics import accuracy_score, classification_report, confusion_matrix\n",
    "from sklearn.preprocessing import OneHotEncoder\n",
    "from sklearn.model_selection import GridSearchCV\n",
    "from sklearn.ensemble import RandomForestClassifier\n",
    "from sklearn.model_selection import StratifiedKFold\n",
    "from sklearn.model_selection import cross_val_score\n",
    "\n",
    "\n",
    "\n",
    "df = pd.read_csv(r'D:\\Study Material\\Projects\\Titanic Survival Prediction/Titanic-Dataset.csv')\n"
   ]
  },
  {
   "cell_type": "code",
   "execution_count": 43,
   "id": "61068498-51ac-4d57-9061-b0975fdd0996",
   "metadata": {},
   "outputs": [
    {
     "data": {
      "text/html": [
       "<div>\n",
       "<style scoped>\n",
       "    .dataframe tbody tr th:only-of-type {\n",
       "        vertical-align: middle;\n",
       "    }\n",
       "\n",
       "    .dataframe tbody tr th {\n",
       "        vertical-align: top;\n",
       "    }\n",
       "\n",
       "    .dataframe thead th {\n",
       "        text-align: right;\n",
       "    }\n",
       "</style>\n",
       "<table border=\"1\" class=\"dataframe\">\n",
       "  <thead>\n",
       "    <tr style=\"text-align: right;\">\n",
       "      <th></th>\n",
       "      <th>PassengerId</th>\n",
       "      <th>Survived</th>\n",
       "      <th>Pclass</th>\n",
       "      <th>Name</th>\n",
       "      <th>Sex</th>\n",
       "      <th>Age</th>\n",
       "      <th>SibSp</th>\n",
       "      <th>Parch</th>\n",
       "      <th>Ticket</th>\n",
       "      <th>Fare</th>\n",
       "      <th>Cabin</th>\n",
       "      <th>Embarked</th>\n",
       "    </tr>\n",
       "  </thead>\n",
       "  <tbody>\n",
       "    <tr>\n",
       "      <th>0</th>\n",
       "      <td>1</td>\n",
       "      <td>0</td>\n",
       "      <td>3</td>\n",
       "      <td>Braund, Mr. Owen Harris</td>\n",
       "      <td>male</td>\n",
       "      <td>22.0</td>\n",
       "      <td>1</td>\n",
       "      <td>0</td>\n",
       "      <td>A/5 21171</td>\n",
       "      <td>7.2500</td>\n",
       "      <td>NaN</td>\n",
       "      <td>S</td>\n",
       "    </tr>\n",
       "    <tr>\n",
       "      <th>1</th>\n",
       "      <td>2</td>\n",
       "      <td>1</td>\n",
       "      <td>1</td>\n",
       "      <td>Cumings, Mrs. John Bradley (Florence Briggs Th...</td>\n",
       "      <td>female</td>\n",
       "      <td>38.0</td>\n",
       "      <td>1</td>\n",
       "      <td>0</td>\n",
       "      <td>PC 17599</td>\n",
       "      <td>71.2833</td>\n",
       "      <td>C85</td>\n",
       "      <td>C</td>\n",
       "    </tr>\n",
       "    <tr>\n",
       "      <th>2</th>\n",
       "      <td>3</td>\n",
       "      <td>1</td>\n",
       "      <td>3</td>\n",
       "      <td>Heikkinen, Miss. Laina</td>\n",
       "      <td>female</td>\n",
       "      <td>26.0</td>\n",
       "      <td>0</td>\n",
       "      <td>0</td>\n",
       "      <td>STON/O2. 3101282</td>\n",
       "      <td>7.9250</td>\n",
       "      <td>NaN</td>\n",
       "      <td>S</td>\n",
       "    </tr>\n",
       "    <tr>\n",
       "      <th>3</th>\n",
       "      <td>4</td>\n",
       "      <td>1</td>\n",
       "      <td>1</td>\n",
       "      <td>Futrelle, Mrs. Jacques Heath (Lily May Peel)</td>\n",
       "      <td>female</td>\n",
       "      <td>35.0</td>\n",
       "      <td>1</td>\n",
       "      <td>0</td>\n",
       "      <td>113803</td>\n",
       "      <td>53.1000</td>\n",
       "      <td>C123</td>\n",
       "      <td>S</td>\n",
       "    </tr>\n",
       "    <tr>\n",
       "      <th>4</th>\n",
       "      <td>5</td>\n",
       "      <td>0</td>\n",
       "      <td>3</td>\n",
       "      <td>Allen, Mr. William Henry</td>\n",
       "      <td>male</td>\n",
       "      <td>35.0</td>\n",
       "      <td>0</td>\n",
       "      <td>0</td>\n",
       "      <td>373450</td>\n",
       "      <td>8.0500</td>\n",
       "      <td>NaN</td>\n",
       "      <td>S</td>\n",
       "    </tr>\n",
       "  </tbody>\n",
       "</table>\n",
       "</div>"
      ],
      "text/plain": [
       "   PassengerId  Survived  Pclass  \\\n",
       "0            1         0       3   \n",
       "1            2         1       1   \n",
       "2            3         1       3   \n",
       "3            4         1       1   \n",
       "4            5         0       3   \n",
       "\n",
       "                                                Name     Sex   Age  SibSp  \\\n",
       "0                            Braund, Mr. Owen Harris    male  22.0      1   \n",
       "1  Cumings, Mrs. John Bradley (Florence Briggs Th...  female  38.0      1   \n",
       "2                             Heikkinen, Miss. Laina  female  26.0      0   \n",
       "3       Futrelle, Mrs. Jacques Heath (Lily May Peel)  female  35.0      1   \n",
       "4                           Allen, Mr. William Henry    male  35.0      0   \n",
       "\n",
       "   Parch            Ticket     Fare Cabin Embarked  \n",
       "0      0         A/5 21171   7.2500   NaN        S  \n",
       "1      0          PC 17599  71.2833   C85        C  \n",
       "2      0  STON/O2. 3101282   7.9250   NaN        S  \n",
       "3      0            113803  53.1000  C123        S  \n",
       "4      0            373450   8.0500   NaN        S  "
      ]
     },
     "execution_count": 43,
     "metadata": {},
     "output_type": "execute_result"
    }
   ],
   "source": [
    "df.head()"
   ]
  },
  {
   "cell_type": "code",
   "execution_count": 24,
   "id": "74daaeec-faa3-4515-9386-48b45a4b4caa",
   "metadata": {},
   "outputs": [
    {
     "data": {
      "text/html": [
       "<div>\n",
       "<style scoped>\n",
       "    .dataframe tbody tr th:only-of-type {\n",
       "        vertical-align: middle;\n",
       "    }\n",
       "\n",
       "    .dataframe tbody tr th {\n",
       "        vertical-align: top;\n",
       "    }\n",
       "\n",
       "    .dataframe thead th {\n",
       "        text-align: right;\n",
       "    }\n",
       "</style>\n",
       "<table border=\"1\" class=\"dataframe\">\n",
       "  <thead>\n",
       "    <tr style=\"text-align: right;\">\n",
       "      <th></th>\n",
       "      <th>PassengerId</th>\n",
       "      <th>Survived</th>\n",
       "      <th>Pclass</th>\n",
       "      <th>Age</th>\n",
       "      <th>SibSp</th>\n",
       "      <th>Parch</th>\n",
       "      <th>Fare</th>\n",
       "    </tr>\n",
       "  </thead>\n",
       "  <tbody>\n",
       "    <tr>\n",
       "      <th>count</th>\n",
       "      <td>891.000000</td>\n",
       "      <td>891.000000</td>\n",
       "      <td>891.000000</td>\n",
       "      <td>714.000000</td>\n",
       "      <td>891.000000</td>\n",
       "      <td>891.000000</td>\n",
       "      <td>891.000000</td>\n",
       "    </tr>\n",
       "    <tr>\n",
       "      <th>mean</th>\n",
       "      <td>446.000000</td>\n",
       "      <td>0.383838</td>\n",
       "      <td>2.308642</td>\n",
       "      <td>29.699118</td>\n",
       "      <td>0.523008</td>\n",
       "      <td>0.381594</td>\n",
       "      <td>32.204208</td>\n",
       "    </tr>\n",
       "    <tr>\n",
       "      <th>std</th>\n",
       "      <td>257.353842</td>\n",
       "      <td>0.486592</td>\n",
       "      <td>0.836071</td>\n",
       "      <td>14.526497</td>\n",
       "      <td>1.102743</td>\n",
       "      <td>0.806057</td>\n",
       "      <td>49.693429</td>\n",
       "    </tr>\n",
       "    <tr>\n",
       "      <th>min</th>\n",
       "      <td>1.000000</td>\n",
       "      <td>0.000000</td>\n",
       "      <td>1.000000</td>\n",
       "      <td>0.420000</td>\n",
       "      <td>0.000000</td>\n",
       "      <td>0.000000</td>\n",
       "      <td>0.000000</td>\n",
       "    </tr>\n",
       "    <tr>\n",
       "      <th>25%</th>\n",
       "      <td>223.500000</td>\n",
       "      <td>0.000000</td>\n",
       "      <td>2.000000</td>\n",
       "      <td>20.125000</td>\n",
       "      <td>0.000000</td>\n",
       "      <td>0.000000</td>\n",
       "      <td>7.910400</td>\n",
       "    </tr>\n",
       "    <tr>\n",
       "      <th>50%</th>\n",
       "      <td>446.000000</td>\n",
       "      <td>0.000000</td>\n",
       "      <td>3.000000</td>\n",
       "      <td>28.000000</td>\n",
       "      <td>0.000000</td>\n",
       "      <td>0.000000</td>\n",
       "      <td>14.454200</td>\n",
       "    </tr>\n",
       "    <tr>\n",
       "      <th>75%</th>\n",
       "      <td>668.500000</td>\n",
       "      <td>1.000000</td>\n",
       "      <td>3.000000</td>\n",
       "      <td>38.000000</td>\n",
       "      <td>1.000000</td>\n",
       "      <td>0.000000</td>\n",
       "      <td>31.000000</td>\n",
       "    </tr>\n",
       "    <tr>\n",
       "      <th>max</th>\n",
       "      <td>891.000000</td>\n",
       "      <td>1.000000</td>\n",
       "      <td>3.000000</td>\n",
       "      <td>80.000000</td>\n",
       "      <td>8.000000</td>\n",
       "      <td>6.000000</td>\n",
       "      <td>512.329200</td>\n",
       "    </tr>\n",
       "  </tbody>\n",
       "</table>\n",
       "</div>"
      ],
      "text/plain": [
       "       PassengerId    Survived      Pclass         Age       SibSp  \\\n",
       "count   891.000000  891.000000  891.000000  714.000000  891.000000   \n",
       "mean    446.000000    0.383838    2.308642   29.699118    0.523008   \n",
       "std     257.353842    0.486592    0.836071   14.526497    1.102743   \n",
       "min       1.000000    0.000000    1.000000    0.420000    0.000000   \n",
       "25%     223.500000    0.000000    2.000000   20.125000    0.000000   \n",
       "50%     446.000000    0.000000    3.000000   28.000000    0.000000   \n",
       "75%     668.500000    1.000000    3.000000   38.000000    1.000000   \n",
       "max     891.000000    1.000000    3.000000   80.000000    8.000000   \n",
       "\n",
       "            Parch        Fare  \n",
       "count  891.000000  891.000000  \n",
       "mean     0.381594   32.204208  \n",
       "std      0.806057   49.693429  \n",
       "min      0.000000    0.000000  \n",
       "25%      0.000000    7.910400  \n",
       "50%      0.000000   14.454200  \n",
       "75%      0.000000   31.000000  \n",
       "max      6.000000  512.329200  "
      ]
     },
     "execution_count": 24,
     "metadata": {},
     "output_type": "execute_result"
    }
   ],
   "source": [
    "df.describe()"
   ]
  },
  {
   "cell_type": "code",
   "execution_count": 25,
   "id": "002ee68c-a37c-465a-b981-aae55498c680",
   "metadata": {},
   "outputs": [
    {
     "ename": "SyntaxError",
     "evalue": "invalid syntax (2952332143.py, line 1)",
     "output_type": "error",
     "traceback": [
      "\u001b[1;36m  Cell \u001b[1;32mIn[25], line 1\u001b[1;36m\u001b[0m\n\u001b[1;33m    Mean age ~ 30\u001b[0m\n\u001b[1;37m         ^\u001b[0m\n\u001b[1;31mSyntaxError\u001b[0m\u001b[1;31m:\u001b[0m invalid syntax\n"
     ]
    }
   ],
   "source": [
    "Mean age ~ 30"
   ]
  },
  {
   "cell_type": "code",
   "execution_count": 38,
   "id": "5f6f4ce5-8dfe-479e-b2a9-a82a82b33676",
   "metadata": {},
   "outputs": [
    {
     "name": "stdout",
     "output_type": "stream",
     "text": [
      "<class 'pandas.core.frame.DataFrame'>\n",
      "RangeIndex: 891 entries, 0 to 890\n",
      "Data columns (total 12 columns):\n",
      " #   Column       Non-Null Count  Dtype  \n",
      "---  ------       --------------  -----  \n",
      " 0   PassengerId  891 non-null    int64  \n",
      " 1   Survived     891 non-null    int64  \n",
      " 2   Pclass       891 non-null    int64  \n",
      " 3   Name         891 non-null    object \n",
      " 4   Sex          891 non-null    int64  \n",
      " 5   Age          714 non-null    float64\n",
      " 6   SibSp        891 non-null    int64  \n",
      " 7   Parch        891 non-null    int64  \n",
      " 8   Ticket       891 non-null    object \n",
      " 9   Fare         891 non-null    float64\n",
      " 10  Cabin        204 non-null    object \n",
      " 11  Embarked     889 non-null    object \n",
      "dtypes: float64(2), int64(6), object(4)\n",
      "memory usage: 83.7+ KB\n"
     ]
    }
   ],
   "source": [
    "df.info()"
   ]
  },
  {
   "cell_type": "code",
   "execution_count": null,
   "id": "f73e8be8-6211-4e4e-9ea2-1a62d326ce11",
   "metadata": {},
   "outputs": [],
   "source": [
    "df.isnull().sum()"
   ]
  },
  {
   "cell_type": "code",
   "execution_count": null,
   "id": "854c8ff4-9a26-4849-a7c5-b2bf7963f0d3",
   "metadata": {},
   "outputs": [],
   "source": [
    "177 missing Age entries, 687 missing Cabin entries"
   ]
  },
  {
   "cell_type": "code",
   "execution_count": null,
   "id": "5bab6be1-e63b-4334-bf8f-4a68be57f9bb",
   "metadata": {},
   "outputs": [],
   "source": [
    "df['Sex'] = df['Sex'].map({'male': 1, 'female': 0})\n"
   ]
  },
  {
   "cell_type": "code",
   "execution_count": null,
   "id": "48c1781a-0138-4e9a-b5fe-97586b00f337",
   "metadata": {},
   "outputs": [],
   "source": [
    "df.head(5)"
   ]
  },
  {
   "cell_type": "code",
   "execution_count": null,
   "id": "878cfc05-e129-47cb-8162-1de6300d0a75",
   "metadata": {},
   "outputs": [],
   "source": [
    "df.isna()"
   ]
  },
  {
   "cell_type": "code",
   "execution_count": null,
   "id": "2c8948e4-501a-4224-afb2-89e3343e4010",
   "metadata": {},
   "outputs": [],
   "source": [
    "data = df['Survived'].value_counts()\n",
    "\n",
    "plt.figure(figsize=(5, 4))\n",
    "plt.pie(data, labels=data.index, autopct='%1.1f%%', colors=sns.color_palette(\"muted\"))\n",
    "\n",
    "plt.show()"
   ]
  },
  {
   "cell_type": "code",
   "execution_count": null,
   "id": "e1eafd05-82ef-4681-aaf4-60d3afb0d8bf",
   "metadata": {},
   "outputs": [],
   "source": [
    "plt.figure(figsize=(6, 4))\n",
    "\n",
    "sns.histplot(df['Age'], bins=10, color=\"orange\")\n",
    "\n",
    "plt.xlabel(\"Age\")\n",
    "plt.ylabel(\"Count\")\n",
    "plt.title(\"Age Distribution\")\n",
    "\n",
    "plt.show()"
   ]
  },
  {
   "cell_type": "code",
   "execution_count": null,
   "id": "7863ffe4-692d-417c-8047-9dc66191e331",
   "metadata": {},
   "outputs": [],
   "source": [
    "df.Age.median()"
   ]
  },
  {
   "cell_type": "code",
   "execution_count": null,
   "id": "9aac3e60-c59d-4331-a1ba-f64f490c7526",
   "metadata": {},
   "outputs": [],
   "source": [
    "df.Age.mean()"
   ]
  },
  {
   "cell_type": "code",
   "execution_count": null,
   "id": "7c625c96-3f81-4658-9dff-01600f2e057f",
   "metadata": {},
   "outputs": [],
   "source": [
    "df.Age.mode()"
   ]
  },
  {
   "cell_type": "code",
   "execution_count": null,
   "id": "f4160c4e-bb9a-4bea-b0ce-4b93aabc1a00",
   "metadata": {},
   "outputs": [],
   "source": [
    "df['Age'].fillna(df['Age'].median(), inplace=True)\n"
   ]
  },
  {
   "cell_type": "code",
   "execution_count": null,
   "id": "d4b580f7-c9bf-413d-b9f1-e2c3d47a0d6f",
   "metadata": {},
   "outputs": [],
   "source": [
    "df.isnull().sum()"
   ]
  },
  {
   "cell_type": "code",
   "execution_count": null,
   "id": "4b8fcdba-5ce2-4c3d-b484-045848eacb39",
   "metadata": {},
   "outputs": [],
   "source": [
    "df.drop(columns=['Cabin'], inplace=True)\n"
   ]
  },
  {
   "cell_type": "code",
   "execution_count": null,
   "id": "7d07409e-4577-4cdd-85ae-8c86f3521ba3",
   "metadata": {},
   "outputs": [],
   "source": [
    "df.isnull().sum()"
   ]
  },
  {
   "cell_type": "code",
   "execution_count": null,
   "id": "b7b2ea80-62db-4661-80c4-14eab83ada6f",
   "metadata": {},
   "outputs": [],
   "source": [
    "plt.figure(figsize=(6, 4))\n",
    "\n",
    "sns.countplot(x=df['Survived'], palette='muted')\n",
    "\n",
    "plt.xlabel(\"Survival (0 = No, 1 = Yes)\")\n",
    "plt.ylabel(\"Count\")\n",
    "plt.title(\"Survival Count\")\n",
    "\n",
    "plt.show()"
   ]
  },
  {
   "cell_type": "code",
   "execution_count": null,
   "id": "4107593e-1e2e-4084-a5cd-01937a3b6e5a",
   "metadata": {},
   "outputs": [],
   "source": [
    "plt.figure(figsize=(10, 4))\n",
    "\n",
    "sns.barplot(hue=df['Survived'], y=df['Age'],width=0.5, palette='muted')\n",
    "\n",
    "plt.xlabel(\"Survival\")\n",
    "plt.ylabel(\"Age\")\n",
    "plt.title(\"Age vs Survival Rate\")"
   ]
  },
  {
   "cell_type": "code",
   "execution_count": null,
   "id": "5905a056-ddf5-49a6-9cbe-ced71f0d0440",
   "metadata": {},
   "outputs": [],
   "source": [
    "plt.figure(figsize=(6, 4))\n",
    "sns.countplot(x=df['Sex'], palette='muted')\n",
    "\n",
    "plt.xlabel(\"0=Female, 1=Male\")\n",
    "plt.ylabel(\"Sex\")\n",
    "plt.show()"
   ]
  },
  {
   "cell_type": "code",
   "execution_count": null,
   "id": "9641f39a-dcef-4c33-8edc-3362f9b64b06",
   "metadata": {},
   "outputs": [],
   "source": [
    "survival_counts = df[df['Survived'] == 1]['Sex'].value_counts()\n",
    "\n",
    "plt.figure(figsize=(6, 4))\n",
    "colors = ['lightblue', 'orange']\n",
    "survival_counts.plot.pie(autopct='%1.1f%%', colors=colors ,wedgeprops={'edgecolor': 'white'})\n",
    "\n",
    "plt.ylabel('')\n",
    "plt.title(\"Survival Percentage by Gender\")\n",
    "\n",
    "plt.show()"
   ]
  },
  {
   "cell_type": "code",
   "execution_count": null,
   "id": "b710a8c1-37f0-4e18-a351-5d2fae150308",
   "metadata": {},
   "outputs": [],
   "source": [
    "pclass_counts = df['Pclass'].value_counts()\n",
    "\n",
    "colors = sns.color_palette(\"pastel\", len(pclass_counts))  \n",
    "labels = [f'Class {pclass}' for pclass in pclass_counts.index]\n",
    "\n",
    "plt.figure(figsize=(6, 4))\n",
    "pclass_counts.plot.pie(autopct='%1.1f%%', labels=labels, colors=colors, startangle=90, wedgeprops={'edgecolor': 'white'})\n",
    "\n",
    "plt.title(\"Passenger Class Distribution\")\n",
    "plt.ylabel('') \n",
    "\n",
    "plt.show()"
   ]
  },
  {
   "cell_type": "code",
   "execution_count": null,
   "id": "421864dc-c16a-468a-9a5b-d29f482de180",
   "metadata": {},
   "outputs": [],
   "source": [
    "survival_counts = df[df['Survived'] == 1]['Pclass'].value_counts()\n",
    "\n",
    "colors = sns.color_palette(\"pastel\", len(survival_counts))  \n",
    "labels = [f'Class {pclass}' for pclass in survival_counts.index] \n",
    "\n",
    "plt.figure(figsize=(6, 4))\n",
    "survival_counts.plot.pie(autopct='%1.1f%%', labels=labels, colors=colors, startangle=90, wedgeprops={'edgecolor': 'white'})\n",
    "\n",
    "plt.title(\"Survival Percentage by Passenger Class\")\n",
    "plt.ylabel('') \n",
    "\n",
    "plt.show()"
   ]
  },
  {
   "cell_type": "code",
   "execution_count": null,
   "id": "9ff6f665-14c6-4e59-bc93-99ac42d04dd5",
   "metadata": {},
   "outputs": [],
   "source": [
    "parch_counts = df['Parch'].value_counts()\n",
    "\n",
    "colors = sns.color_palette(\"pastel\", len(parch_counts))  \n",
    "labels = [f'Parch {parch}' for parch in parch_counts.index] \n",
    "\n",
    "plt.figure(figsize=(6, 5))\n",
    "parch_counts.plot.pie(autopct='%1.1f%%', labels=labels, colors=colors, startangle=90, wedgeprops={'edgecolor': 'black'})\n",
    "\n",
    "plt.title(\"Parch (Parents/Children Aboard) Distribution\")\n",
    "plt.ylabel('') \n",
    "\n",
    "plt.show()"
   ]
  },
  {
   "cell_type": "code",
   "execution_count": 95,
   "id": "7f8ac734-773f-4e06-a519-48798a74bb23",
   "metadata": {},
   "outputs": [
    {
     "data": {
      "image/png": "[encoded data removed]",
      "text/plain": [
       "<Figure size 700x700 with 1 Axes>"
      ]
     },
     "metadata": {},
     "output_type": "display_data"
    }
   ],
   "source": [
    "sibsp_counts = df['SibSp'].value_counts()\n",
    "\n",
    "colors = sns.color_palette(\"pastel\", len(sibsp_counts)) \n",
    "labels = [f'SibSp {sibsp}' for sibsp in sibsp_counts.index]  \n",
    "\n",
    "plt.figure(figsize=(7, 7))\n",
    "sibsp_counts.plot.pie(autopct='%1.1f%%', labels=labels, colors=colors, startangle=90, wedgeprops={'edgecolor': 'black'})\n",
    "\n",
    "plt.title(\"SibSp (Siblings/Spouses Aboard) Distribution\")\n",
    "plt.ylabel('')\n",
    "plt.show()"
   ]
  },
  {
   "cell_type": "code",
   "execution_count": null,
   "id": "b8cdb060-a835-428d-8222-4d1c7e5c05d5",
   "metadata": {},
   "outputs": [],
   "source": [
    "plt.figure(figsize=(6, 5))\n",
    "sns.barplot(x='Sex', y='Survived', data=df, estimator=lambda x: sum(x), palette='muted')\n",
    "\n",
    "plt.title(\"Survival Count by Gender\", fontsize=14)\n",
    "plt.xlabel(\"Gender\", fontsize=12)\n",
    "plt.ylabel(\"Survival Count\", fontsize=12)\n",
    "\n",
    "plt.show()"
   ]
  },
  {
   "cell_type": "code",
   "execution_count": null,
   "id": "02cfbd91-9fc7-4ab5-9419-daa6ffdf992a",
   "metadata": {},
   "outputs": [],
   "source": [
    "plt.figure(figsize=(6, 5))\n",
    "sns.countplot(x='Sex', hue='Survived', data=df, palette='muted')\n",
    "\n",
    "plt.title(\"Survival & Death Count by Gender\", fontsize=14)\n",
    "plt.xlabel(\"Gender\", fontsize=12)\n",
    "plt.ylabel(\"Count\", fontsize=12)\n",
    "plt.legend(title=\"Survival Status\", labels=[\"Died (0)\", \"Survived (1)\"])\n",
    "\n",
    "plt.show()\n"
   ]
  },
  {
   "cell_type": "code",
   "execution_count": null,
   "id": "05aaf34a-3ca5-4acd-9db0-9e91b7fd6f7d",
   "metadata": {},
   "outputs": [],
   "source": [
    "plt.figure(figsize=(7, 5))\n",
    "sns.countplot(x='Pclass', hue='Survived', data=df, palette='muted')\n",
    "\n",
    "plt.title(\"Survival & Death Count by Passenger Class\", fontsize=14)\n",
    "plt.xlabel(\"Passenger Class (Pclass)\", fontsize=12)\n",
    "plt.ylabel(\"Count\", fontsize=12)\n",
    "plt.xticks(ticks=[0, 1, 2], labels=[\"Class 1\", \"Class 2\", \"Class 3\"]) \n",
    "plt.legend(title=\"Survival Status\", labels=[\"Died (0)\", \"Survived (1)\"])\n",
    "\n",
    "plt.show()"
   ]
  },
  {
   "cell_type": "code",
   "execution_count": null,
   "id": "f4d12f48-ca16-4ee5-9337-c17734a9721c",
   "metadata": {},
   "outputs": [],
   "source": [
    "bins = [0, 10, 20, 30, 40, 50, 60, 80]  \n",
    "labels = ['0-10', '11-20', '21-30', '31-40', '41-50', '51-60', '61+']\n",
    "df['AgeGroup'] = pd.cut(df['Age'], bins=bins, labels=labels)\n",
    "\n",
    "plt.figure(figsize=(8, 5))\n",
    "sns.countplot(x='AgeGroup', hue='Survived', data=df, palette='muted')\n",
    "\n",
    "plt.title(\"Survival & Death Count by Age Group\", fontsize=14)\n",
    "plt.xlabel(\"Age Group\", fontsize=12)\n",
    "plt.ylabel(\"Count\", fontsize=12)\n",
    "plt.legend(title=\"Survival Status\", labels=[\"Died (0)\", \"Survived (1)\"])\n",
    "\n",
    "plt.show()\n"
   ]
  },
  {
   "cell_type": "code",
   "execution_count": null,
   "id": "8db52fe2-3061-4509-82f2-eafe9c7e1a1e",
   "metadata": {},
   "outputs": [],
   "source": [
    "plt.figure(figsize=(7, 5))\n",
    "sns.countplot(x='Parch', hue='Survived', data=df, palette='muted')\n",
    "\n",
    "plt.title(\"Survival & Death Count by Number of Parents/Children Aboard (Parch)\", fontsize=14)\n",
    "plt.xlabel(\"Number of Parents/Children Aboard (Parch)\", fontsize=12)\n",
    "plt.ylabel(\"Count\", fontsize=12)\n",
    "plt.legend(title=\"Survival Status\", labels=[\"Died (0)\", \"Survived (1)\"])\n",
    "\n",
    "plt.show()"
   ]
  },
  {
   "cell_type": "code",
   "execution_count": null,
   "id": "b024eaf2-3c25-462f-900e-ebbb2e680b3d",
   "metadata": {},
   "outputs": [],
   "source": [
    "plt.figure(figsize=(7, 5))\n",
    "sns.countplot(x='SibSp', hue='Survived', data=df, palette='muted')\n",
    "\n",
    "plt.title(\"Survival & Death Count by Number of Siblings/Spouses Aboard (SibSp)\", fontsize=14)\n",
    "plt.xlabel(\"Number of Siblings/Spouses Aboard (SibSp)\", fontsize=12)\n",
    "plt.ylabel(\"Count\", fontsize=12)\n",
    "plt.legend(title=\"Survival Status\", labels=[\"Died (0)\", \"Survived (1)\"])\n",
    "\n",
    "plt.show()"
   ]
  },
  {
   "cell_type": "code",
   "execution_count": null,
   "id": "a11b3bd8-a375-449c-8295-06530983713c",
   "metadata": {},
   "outputs": [],
   "source": [
    "Conclusion of Titanic Survival Analysis-\n",
    "1. Women had a significantly higher survival rate compared to men.\n",
    "2. 1st Class passengers had the highest survival rate, followed by 2nd Class, and 3rd Class had the lowest.\n",
    "3. Children (0-10 years) had a higher survival rate due to priority evacuation.\n",
    "4. Passengers traveling alone (SibSp=0, Parch=0) had a lower survival rate."
   ]
  },
  {
   "cell_type": "code",
   "execution_count": 64,
   "id": "7b4e8c7d-dff3-4c33-a04c-e8cc10cb26ee",
   "metadata": {},
   "outputs": [],
   "source": [
    "df['Sex'] = df['Sex'].apply(lambda row: 1 if row == 'Male' else 0)\n"
   ]
  },
  {
   "cell_type": "code",
   "execution_count": 54,
   "id": "1a03713f-49c7-4fbe-9e61-edc8d64bd785",
   "metadata": {},
   "outputs": [
    {
     "data": {
      "text/plain": [
       "Index(['PassengerId', 'Survived', 'Pclass', 'Name', 'Sex', 'SibSp', 'Parch',\n",
       "       'Ticket', 'Fare', 'Cabin',\n",
       "       ...\n",
       "       'Age_70.0', 'Age_70.5', 'Age_71.0', 'Age_74.0', 'Age_80.0', 'Age_nan',\n",
       "       'Embarked_C', 'Embarked_Q', 'Embarked_S', 'Embarked_nan'],\n",
       "      dtype='object', length=103)"
      ]
     },
     "execution_count": 54,
     "metadata": {},
     "output_type": "execute_result"
    }
   ],
   "source": [
    "df.columns\n"
   ]
  },
  {
   "cell_type": "code",
   "execution_count": 56,
   "id": "45b689cd-2c70-4602-b2f1-c9e7387e121f",
   "metadata": {},
   "outputs": [
    {
     "name": "stdout",
     "output_type": "stream",
     "text": [
      "['Embarked_C', 'Embarked_Q', 'Embarked_S', 'Embarked_nan']\n"
     ]
    }
   ],
   "source": [
    "embarked_columns = [col for col in df.columns if 'Embarked' in col]\n",
    "print(embarked_columns)"
   ]
  },
  {
   "cell_type": "code",
   "execution_count": 91,
   "id": "7dbb5b7a-199c-4118-b23f-7abeeaa3935c",
   "metadata": {},
   "outputs": [
    {
     "name": "stdout",
     "output_type": "stream",
     "text": [
      "X_training shape -> (712, 11)\n",
      "y_training shape -> (712,)\n",
      "X_test shape -> (179, 11)\n",
      "y_test shape -> (179,)\n"
     ]
    }
   ],
   "source": [
    "X = df.drop(['Survived'],axis=1)\n",
    "y = df['Survived']\n",
    "\n",
    "X_train, X_test, y_train, y_test =  train_test_split(X, y, test_size=0.2, random_state=42, stratify=y)\n",
    "\n",
    "print(f\"X_training shape -> {X_train.shape}\")\n",
    "print(f\"y_training shape -> {y_train.shape}\")\n",
    "print(f\"X_test shape -> {X_test.shape}\")\n",
    "print(f\"y_test shape -> {y_test.shape}\")"
   ]
  },
  {
   "cell_type": "code",
   "execution_count": 96,
   "id": "5546f013-99d4-467e-add3-ecc34d71f457",
   "metadata": {},
   "outputs": [
    {
     "name": "stdout",
     "output_type": "stream",
     "text": [
      "Accuracy: 0.8042\n",
      "              precision    recall  f1-score   support\n",
      "\n",
      "           0       0.78      0.91      0.84        80\n",
      "           1       0.86      0.67      0.75        63\n",
      "\n",
      "    accuracy                           0.80       143\n",
      "   macro avg       0.82      0.79      0.79       143\n",
      "weighted avg       0.81      0.80      0.80       143\n",
      "\n"
     ]
    }
   ],
   "source": [
    "df = df.drop(columns=[\"Name\", \"Ticket\", \"Cabin\"], errors='ignore')\n",
    "df = df.dropna() \n",
    "\n",
    "df = pd.get_dummies(df, columns=[\"Sex\", \"Embarked\"], drop_first=True) \n",
    "\n",
    "X = df.drop(columns=[\"Survived\"], errors='ignore')\n",
    "y = df[\"Survived\"]\n",
    "\n",
    "X_train, X_test, y_train, y_test = train_test_split(X, y, test_size=0.2, random_state=42)\n",
    "\n",
    "scaler = StandardScaler()\n",
    "X_train = scaler.fit_transform(X_train)\n",
    "X_test = scaler.transform(X_test)\n",
    "\n",
    "model = LogisticRegression()\n",
    "model.fit(X_train, y_train)\n",
    "\n",
    "y_pred = model.predict(X_test)\n",
    "accuracy = accuracy_score(y_test, y_pred)\n",
    "report = classification_report(y_test, y_pred)\n",
    "\n",
    "print(f\"Accuracy: {accuracy:.4f}\")\n",
    "print(report)"
   ]
  },
  {
   "cell_type": "code",
   "execution_count": null,
   "id": "5bcad902-ae2d-44f4-a925-27d210cd5143",
   "metadata": {},
   "outputs": [],
   "source": [
    "-> The Logistic Regression model provides a reasonable accuracy score, which indicates its ability to classify survivors and non-survivors based on the given features.\n",
    "-> Features like Sex (male/female), Passenger Class (Pclass), and Embarked location are crucial in determining survival probability.\n",
    "-> The model achieved an accuracy of 82%, meaning that 82% of the predictions on the test set were correct.\n",
    "    \n",
    "-> For Non-survivors (Class 0):\n",
    "Precision: 83%\n",
    "Recall: 90%\n",
    "F1-Score: 86%\n",
    "For Survivors (Class 1):\n",
    "Precision: 76%\n",
    "Recall: 65%\n",
    "F1-Score: 70%\n",
    "-> The high recall (90%) for non-survivors suggests the model is very effective at identifying passengers who did not survive.\n",
    "-> However, a lower recall (65%) for survivors indicates that the model misses some of the actual survivors."
   ]
  }
 ],
 "metadata": {
  "kernelspec": {
   "display_name": "Python 3 (ipykernel)",
   "language": "python",
   "name": "python3"
  },
  "language_info": {
   "codemirror_mode": {
    "name": "ipython",
    "version": 3
   },
   "file_extension": ".py",
   "mimetype": "text/x-python",
   "name": "python",
   "nbconvert_exporter": "python",
   "pygments_lexer": "ipython3",
   "version": "3.12.4"
  }
 },
 "nbformat": 4,
 "nbformat_minor": 5
}
